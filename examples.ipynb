{
 "cells": [
  {
   "cell_type": "code",
   "execution_count": 1,
   "metadata": {},
   "outputs": [],
   "source": [
    "import hmm\n",
    "\n",
    "test_data = [[0, 1, 2, 3, 4, 5] for _ in range(100)]\n",
    "test_states = [[5, 4, 3, 2, 1, 0] for _ in range(100)]\n",
    "\n",
    "HMM = hmm.supervised_HMM(test_data, test_states)\n",
    "# HMM.O"
   ]
  },
  {
   "cell_type": "code",
   "execution_count": 2,
   "metadata": {},
   "outputs": [],
   "source": [
    "# HMM.T"
   ]
  },
  {
   "cell_type": "code",
   "execution_count": 3,
   "metadata": {},
   "outputs": [
    {
     "name": "stdout",
     "output_type": "stream",
     "text": [
      "[0. 0. 1. 0. 0. 0.]\n",
      "[0. 1. 0. 0. 0. 0.]\n",
      "[1. 0. 0. 0. 0. 0.]\n",
      "[0.16666667 0.16666667 0.16666667 0.16666667 0.16666667 0.16666667]\n",
      "[0.16666667 0.16666667 0.16666667 0.16666667 0.16666667 0.16666667]\n",
      "[1. 0. 0. 0. 0. 0.]\n",
      "[0.16666667 0.16666667 0.16666667 0.16666667 0.16666667 0.16666667]\n",
      "[0. 0. 1. 0. 0. 0.]\n",
      "[0. 1. 0. 0. 0. 0.]\n",
      "[1. 0. 0. 0. 0. 0.]\n",
      "[0.16666667 0.16666667 0.16666667 0.16666667 0.16666667 0.16666667]\n",
      "[1. 0. 0. 0. 0. 0.]\n",
      "[0.16666667 0.16666667 0.16666667 0.16666667 0.16666667 0.16666667]\n",
      "[0.16666667 0.16666667 0.16666667 0.16666667 0.16666667 0.16666667]\n",
      "[0. 0. 1. 0. 0. 0.]\n"
     ]
    },
    {
     "data": {
      "text/plain": [
       "([2, 3, 4, 5, 5, 4, 5, 2, 3, 4, 5, 4, 5, 5, 2],\n",
       " [3, 2, 1, 0, 0, 1, 0, 3, 2, 1, 0, 1, 0, 0, 3])"
      ]
     },
     "execution_count": 3,
     "metadata": {},
     "output_type": "execute_result"
    }
   ],
   "source": [
    "HMM.generate_emission(15)"
   ]
  },
  {
   "cell_type": "code",
   "execution_count": 4,
   "metadata": {},
   "outputs": [
    {
     "data": {
      "text/plain": [
       "[5, 4, 3, 2, 1]"
      ]
     },
     "execution_count": 4,
     "metadata": {},
     "output_type": "execute_result"
    }
   ],
   "source": [
    "HMM.viterbi([0, 1, 2, 3, 4])"
   ]
  },
  {
   "cell_type": "code",
   "execution_count": 5,
   "metadata": {},
   "outputs": [
    {
     "name": "stdout",
     "output_type": "stream",
     "text": [
      "epoch 1/30\n",
      "epoch 2/30\n",
      "epoch 3/30\n",
      "epoch 4/30\n"
     ]
    },
    {
     "name": "stderr",
     "output_type": "stream",
     "text": [
      "d:\\coding\\pythonhmm\\hmm.py:323: RuntimeWarning: invalid value encountered in divide\n",
      "  self.A_start /= np.sum(self.A_start)\n",
      "d:\\coding\\pythonhmm\\hmm.py:177: RuntimeWarning: invalid value encountered in divide\n",
      "  beta_b /= np.sum(beta_b)\n"
     ]
    },
    {
     "name": "stdout",
     "output_type": "stream",
     "text": [
      "epoch 5/30\n",
      "epoch 6/30\n",
      "epoch 7/30\n",
      "epoch 8/30\n",
      "epoch 9/30\n",
      "epoch 10/30\n",
      "epoch 11/30\n",
      "epoch 12/30\n",
      "epoch 13/30\n",
      "epoch 14/30\n",
      "epoch 15/30\n",
      "epoch 16/30\n",
      "epoch 17/30\n",
      "epoch 18/30\n",
      "epoch 19/30\n",
      "epoch 20/30\n",
      "epoch 21/30\n",
      "epoch 22/30\n",
      "epoch 23/30\n",
      "epoch 24/30\n",
      "epoch 25/30\n",
      "epoch 26/30\n",
      "epoch 27/30\n",
      "epoch 28/30\n",
      "epoch 29/30\n",
      "epoch 30/30\n"
     ]
    }
   ],
   "source": [
    "HMM_u = hmm.unsupervised_HMM(test_data, 6, 30)"
   ]
  },
  {
   "cell_type": "code",
   "execution_count": 6,
   "metadata": {},
   "outputs": [
    {
     "ename": "ValueError",
     "evalue": "probabilities contain NaN",
     "output_type": "error",
     "traceback": [
      "\u001b[1;31m---------------------------------------------------------------------------\u001b[0m",
      "\u001b[1;31mValueError\u001b[0m                                Traceback (most recent call last)",
      "Cell \u001b[1;32mIn[6], line 1\u001b[0m\n\u001b[1;32m----> 1\u001b[0m \u001b[43mHMM_u\u001b[49m\u001b[38;5;241;43m.\u001b[39;49m\u001b[43mgenerate_emission\u001b[49m\u001b[43m(\u001b[49m\u001b[38;5;241;43m15\u001b[39;49m\u001b[43m)\u001b[49m\n",
      "File \u001b[1;32md:\\coding\\pythonhmm\\hmm.py:342\u001b[0m, in \u001b[0;36mHiddenMarkovModel.generate_emission\u001b[1;34m(self, M)\u001b[0m\n\u001b[0;32m    340\u001b[0m possible_states \u001b[38;5;241m=\u001b[39m np\u001b[38;5;241m.\u001b[39marange(\u001b[38;5;241m0\u001b[39m, \u001b[38;5;28mself\u001b[39m\u001b[38;5;241m.\u001b[39mN)\n\u001b[0;32m    341\u001b[0m possible_emissions \u001b[38;5;241m=\u001b[39m np\u001b[38;5;241m.\u001b[39marange(\u001b[38;5;241m0\u001b[39m, \u001b[38;5;28mself\u001b[39m\u001b[38;5;241m.\u001b[39mV)\n\u001b[1;32m--> 342\u001b[0m init_state \u001b[38;5;241m=\u001b[39m \u001b[43mrng\u001b[49m\u001b[38;5;241;43m.\u001b[39;49m\u001b[43mchoice\u001b[49m\u001b[43m(\u001b[49m\u001b[43mpossible_states\u001b[49m\u001b[43m,\u001b[49m\u001b[43m \u001b[49m\u001b[43mp\u001b[49m\u001b[38;5;241;43m=\u001b[39;49m\u001b[38;5;28;43mself\u001b[39;49m\u001b[38;5;241;43m.\u001b[39;49m\u001b[43mA_start\u001b[49m\u001b[43m)\u001b[49m\n\u001b[0;32m    344\u001b[0m emission \u001b[38;5;241m=\u001b[39m []\n\u001b[0;32m    345\u001b[0m states \u001b[38;5;241m=\u001b[39m [init_state]\n",
      "File \u001b[1;32m_generator.pyx:824\u001b[0m, in \u001b[0;36mnumpy.random._generator.Generator.choice\u001b[1;34m()\u001b[0m\n",
      "\u001b[1;31mValueError\u001b[0m: probabilities contain NaN"
     ]
    }
   ],
   "source": [
    "HMM_u.generate_emission(15)"
   ]
  }
 ],
 "metadata": {
  "kernelspec": {
   "display_name": "Python 3",
   "language": "python",
   "name": "python3"
  },
  "language_info": {
   "codemirror_mode": {
    "name": "ipython",
    "version": 3
   },
   "file_extension": ".py",
   "mimetype": "text/x-python",
   "name": "python",
   "nbconvert_exporter": "python",
   "pygments_lexer": "ipython3",
   "version": "3.11.2"
  }
 },
 "nbformat": 4,
 "nbformat_minor": 2
}
